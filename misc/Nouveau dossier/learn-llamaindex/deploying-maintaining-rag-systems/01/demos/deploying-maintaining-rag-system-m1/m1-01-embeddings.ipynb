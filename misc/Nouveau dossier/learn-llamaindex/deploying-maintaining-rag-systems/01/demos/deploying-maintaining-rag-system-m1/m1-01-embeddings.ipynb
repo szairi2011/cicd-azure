{
 "cells": [
  {
   "cell_type": "markdown",
   "metadata": {},
   "source": [
    "## Pluralsight Course : Building and Deploying RAG in Production\n",
    "\n",
    "#### Demo: Embeddings"
   ]
  },
  {
   "cell_type": "code",
   "execution_count": 1,
   "metadata": {},
   "outputs": [],
   "source": [
    "# Code tested on Python 3.10.X\n",
    "!pip install -qqq openai"
   ]
  },
  {
   "cell_type": "code",
   "execution_count": null,
   "metadata": {},
   "outputs": [],
   "source": [
    "import os \n",
    "# set API Key\n",
    "os.environ[\"OPENAI_API_KEY\"] = \"<YOUR_API_KEY>\""
   ]
  },
  {
   "cell_type": "code",
   "execution_count": 3,
   "metadata": {},
   "outputs": [
    {
     "name": "stdout",
     "output_type": "stream",
     "text": [
      "Embedding length : 1536\n",
      "[0.015633301809430122, -0.026055503636598587, -0.021758198738098145, -0.002928157104179263, 0.016670582816004753]\n"
     ]
    }
   ],
   "source": [
    "from openai import OpenAI\n",
    "\n",
    "# create openAI client\n",
    "client = OpenAI()\n",
    "\n",
    "# create embeddings on sample input\n",
    "response = client.embeddings.create(\n",
    "    input=\"the sky is blue\",\n",
    "    model=\"text-embedding-3-small\" # try different model \n",
    "    #https://platform.openai.com/docs/guides/embeddings/embedding-models\n",
    ")\n",
    "\n",
    "# print embeddings length\n",
    "print(f\"Embedding length : {len(response.data[0].embedding)}\")\n",
    "\n",
    "# print embeddings\n",
    "print(response.data[0].embedding[:5])"
   ]
  },
  {
   "cell_type": "code",
   "execution_count": null,
   "metadata": {},
   "outputs": [],
   "source": []
  }
 ],
 "metadata": {
  "kernelspec": {
   "display_name": "base",
   "language": "python",
   "name": "python3"
  },
  "language_info": {
   "codemirror_mode": {
    "name": "ipython",
    "version": 3
   },
   "file_extension": ".py",
   "mimetype": "text/x-python",
   "name": "python",
   "nbconvert_exporter": "python",
   "pygments_lexer": "ipython3",
   "version": "3.10.9"
  }
 },
 "nbformat": 4,
 "nbformat_minor": 2
}
