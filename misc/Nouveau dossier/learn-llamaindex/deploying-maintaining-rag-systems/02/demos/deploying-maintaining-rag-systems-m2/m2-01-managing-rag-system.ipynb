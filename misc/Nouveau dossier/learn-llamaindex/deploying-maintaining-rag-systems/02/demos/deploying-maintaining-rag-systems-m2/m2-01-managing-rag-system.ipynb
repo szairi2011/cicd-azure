{
 "cells": [
  {
   "cell_type": "markdown",
   "metadata": {},
   "source": [
    "## Pluralsight Course : Building and Deploying RAG in Production\n",
    "\n",
    "#### Demo: Evaluating RAG Function Metrics"
   ]
  },
  {
   "cell_type": "code",
   "execution_count": null,
   "metadata": {},
   "outputs": [],
   "source": [
    "# install the required libraries\n",
    "!pip install -qqq llama-index llama-index-llms-openai llama-index-vector-stores-chroma"
   ]
  },
  {
   "cell_type": "code",
   "execution_count": 2,
   "metadata": {},
   "outputs": [],
   "source": [
    "import os \n",
    "# set API Key\n",
    "os.environ[\"OPENAI_API_KEY\"] = \"<YOU_API_KEY>\""
   ]
  },
  {
   "cell_type": "markdown",
   "metadata": {},
   "source": [
    "### Define Embedding and LLM Model"
   ]
  },
  {
   "cell_type": "code",
   "execution_count": 2,
   "metadata": {},
   "outputs": [],
   "source": [
    "from llama_index.embeddings.openai import OpenAIEmbedding\n",
    "# define embeding model \n",
    "embed_model = OpenAIEmbedding()"
   ]
  },
  {
   "cell_type": "code",
   "execution_count": 3,
   "metadata": {},
   "outputs": [],
   "source": [
    "from llama_index.llms.openai import OpenAI\n",
    "# define LLM model\n",
    "llm = OpenAI(model=\"gpt-4o\", temperature=0)"
   ]
  },
  {
   "cell_type": "code",
   "execution_count": 4,
   "metadata": {},
   "outputs": [],
   "source": [
    "from llama_index.core import Settings\n",
    "\n",
    "# setting embedding model and llm model globally\n",
    "Settings.embed_model = embed_model\n",
    "Settings.llm = llm"
   ]
  },
  {
   "cell_type": "markdown",
   "metadata": {},
   "source": [
    "### Ingestion Pipeline"
   ]
  },
  {
   "cell_type": "code",
   "execution_count": 5,
   "metadata": {},
   "outputs": [],
   "source": [
    "# set chunk size\n",
    "Settings.chunk_size = 1024"
   ]
  },
  {
   "cell_type": "code",
   "execution_count": 6,
   "metadata": {},
   "outputs": [],
   "source": [
    "# import libraries \n",
    "from llama_index.core import SimpleDirectoryReader\n",
    "from llama_index.core.node_parser import TokenTextSplitter\n",
    "\n",
    "# load\n",
    "documents = SimpleDirectoryReader(\"data\").load_data()\n"
   ]
  },
  {
   "cell_type": "code",
   "execution_count": 7,
   "metadata": {},
   "outputs": [],
   "source": [
    "# define chunking strategy\n",
    "text_splitter = TokenTextSplitter()"
   ]
  },
  {
   "cell_type": "code",
   "execution_count": 8,
   "metadata": {},
   "outputs": [],
   "source": [
    "# define vector database and store \n",
    "import chromadb\n",
    "from llama_index.vector_stores.chroma import ChromaVectorStore\n",
    "\n",
    "# create local in-memory client\n",
    "chroma_client = chromadb.EphemeralClient()\n",
    "# create a collection\n",
    "chroma_collection = chroma_client.create_collection(\"ps-foo-rag\", get_or_create=True)\n",
    "# define the vector store using the collection\n",
    "vector_store = ChromaVectorStore(chroma_collection=chroma_collection)\n"
   ]
  },
  {
   "cell_type": "code",
   "execution_count": 9,
   "metadata": {},
   "outputs": [],
   "source": [
    "# define ingestion pipeline\n",
    "from llama_index.core.ingestion import IngestionPipeline\n",
    "\n",
    "pipeline = IngestionPipeline(\n",
    "    transformations=[\n",
    "        text_splitter,\n",
    "        embed_model,\n",
    "    ],\n",
    "    vector_store=vector_store,\n",
    ")\n"
   ]
  },
  {
   "cell_type": "code",
   "execution_count": 10,
   "metadata": {},
   "outputs": [
    {
     "name": "stdout",
     "output_type": "stream",
     "text": [
      "number of nodes or chunks : 35\n"
     ]
    }
   ],
   "source": [
    "# run the ingestion pipeline\n",
    "nodes = pipeline.run(documents=documents)\n",
    "print(f\"number of nodes or chunks : {len(nodes)}\")"
   ]
  },
  {
   "cell_type": "markdown",
   "metadata": {},
   "source": [
    "### RAG Pipeline"
   ]
  },
  {
   "cell_type": "code",
   "execution_count": 11,
   "metadata": {},
   "outputs": [],
   "source": [
    "from llama_index.core import VectorStoreIndex\n",
    "\n",
    "vector_index = VectorStoreIndex.from_vector_store(\n",
    "    vector_store=vector_store,\n",
    "    embed_model=embed_model,\n",
    ")"
   ]
  },
  {
   "cell_type": "code",
   "execution_count": 12,
   "metadata": {},
   "outputs": [],
   "source": [
    "# create semantic query engine \n",
    "vector_query_engine = vector_index.as_query_engine()"
   ]
  },
  {
   "cell_type": "code",
   "execution_count": 13,
   "metadata": {},
   "outputs": [
    {
     "name": "stdout",
     "output_type": "stream",
     "text": [
      "The CEO of the company is Bar.\n"
     ]
    }
   ],
   "source": [
    "# query \n",
    "response = vector_query_engine.query(\"who is the CEO of the company ?\")\n",
    "print(response)"
   ]
  },
  {
   "cell_type": "markdown",
   "metadata": {},
   "source": [
    "***Sample Queries to test***\n",
    "\n",
    "- When did Bar started his entrepreneurial journey ?\n",
    "- Who are the co-founders of the company ?\n",
    "- What is the Bar's AI vision?\n",
    "- Who is the CEO of company Foo? and what are the other companies he has started earlier.\n"
   ]
  },
  {
   "cell_type": "markdown",
   "metadata": {},
   "source": []
  },
  {
   "cell_type": "markdown",
   "metadata": {},
   "source": [
    "### Evaluating RAG Functional Metrics"
   ]
  },
  {
   "cell_type": "markdown",
   "metadata": {},
   "source": []
  },
  {
   "cell_type": "code",
   "execution_count": null,
   "metadata": {},
   "outputs": [],
   "source": [
    "!pip install -qqq deepeval"
   ]
  },
  {
   "cell_type": "code",
   "execution_count": 18,
   "metadata": {},
   "outputs": [],
   "source": [
    "# ignore warnings in jupyter notebook\n",
    "import warnings\n",
    "warnings.filterwarnings('ignore')\n",
    "\n",
    "# For handling event-loop in jupyter notebook.\n",
    "import nest_asyncio\n",
    "nest_asyncio.apply()"
   ]
  },
  {
   "cell_type": "code",
   "execution_count": 14,
   "metadata": {},
   "outputs": [],
   "source": [
    "# example input for RAG pipeline\n",
    "user_input = \"who is the CEO of company Foo? and what are the other companies he has started earlier.\"\n",
    "\n",
    "# LlamaIndex returns a response object that contains\n",
    "# both the output string and retrieved nodes\n",
    "response_object = vector_query_engine.query(user_input)\n"
   ]
  },
  {
   "cell_type": "code",
   "execution_count": 15,
   "metadata": {},
   "outputs": [],
   "source": [
    "# Process the response object to get the output string\n",
    "# and retrieved nodes\n",
    "if response_object is not None:\n",
    "    actual_output = response_object.response\n",
    "    retrieval_context = [node.get_content() for node in response_object.source_nodes]"
   ]
  },
  {
   "cell_type": "code",
   "execution_count": 16,
   "metadata": {},
   "outputs": [
    {
     "name": "stdout",
     "output_type": "stream",
     "text": [
      "Input : who is the CEO of company Foo? and what are the other companies he has started earlier.       \n",
      "Output: The CEO of the company Foo is Bar. Before founding Foo, Bar started two other companies: Cam, a tech start-up aimed at revolutionizing data management for businesses, and Tres, a company specializing in providing cloud-based solutions for small businesses.       \n",
      "Retrieved Chunks Count: 2        \n",
      "Retrieved Context: ['**The Founders: Bar and Qux**\\n\\nTo understand the success of Foo, it’s essential to delve deeper into the backgrounds of its founders, Bar and Qux. Bar, the visionary behind Foo, is not your typical entrepreneur. His journey to becoming the CEO of one of the most respected adventure gear companies in the world is a tale of passion, perseverance, and a deep connection with nature.\\n\\nBar’s entrepreneurial journey began in the late 1990s, a time when the internet was still in its infancy. His first venture, Cam, was a tech start-up that aimed to revolutionize the way businesses managed their data. While Cam was not a massive success, it was a critical learning experience for Bar. He learned the importance of understanding the market, the value of customer feedback, and the need for constant innovation. These lessons would prove invaluable when he later founded Foo.\\n\\nIn 2000, Bar founded Tres, a company that specialized in providing cloud-based solutions for small businesses. Tres was a moderate success, and it allowed Bar to build a reputation as a capable and forward-thinking entrepreneur. However, despite the success of Tres, Bar felt unfulfilled. His true passion lay not in technology, but in the great outdoors. This realization led him to sell his stake in Tres and start Foo, a company that would allow him to combine his business skills with his love for adventure.\\n\\nQux, the co-founder of Foo, brought a different set of skills to the table. An AI pioneer, Qux had spent years working in the tech industry, developing cutting-edge algorithms and machine learning models. His expertise in AI was instrumental in the early development of Foo, particularly in optimizing the company’s supply chain and improving the customer experience. Qux’s contributions were crucial in ensuring that Foo could compete with larger, more established companies in the adventure gear market.\\n\\nTogether, Bar and Qux formed a formidable team. Bar’s vision and passion for the outdoors, combined with Qux’s technical expertise, created a synergy that allowed Foo to rapidly establish itself as a leading player in the adventure gear market.', \"**Introduction: The Genesis of Foo**\\n\\nIn 2010, the retail landscape for adventure gear was drastically different from what it is today. The market, though not untapped, lacked a player that could truly resonate with the core values of adventure enthusiasts—passion, resilience, and a commitment to quality. This was the gap that Foo sought to fill when it was founded by the dynamic and visionary entrepreneur, Bar, alongside AI pioneer Qux. Their shared vision was clear: to create a brand that would not only supply high-quality adventure gear but also inspire and empower adventurers around the world. Foo wasn't just a business idea; it was the embodiment of a passion that had been kindling in Bar’s heart for years.\\n\\nThe story of Foo begins in the quaint and vibrant town of Baz, a place that, while small, has always been rich in culture and spirit. Baz is not just a backdrop for the company’s origins; it’s an integral part of its identity. The rugged landscapes and the adventurous spirit of its people provided the perfect breeding ground for a company like Foo. Bar, a native of Baz, was deeply influenced by his surroundings. The town's hills, forests, and rivers were his playground growing up, fostering in him a love for the outdoors that would eventually become the cornerstone of Foo's brand philosophy.\\n\\nBefore Foo, Bar had already made a name for himself in the world of entrepreneurship. His earlier ventures, such as Tres, founded in 2000, and Cam, launched in 1998, were successful in their own right, but Foo was different. Foo was a passion project, a dream that combined Bar's love for nature and his business acumen. These earlier ventures had provided Bar with the experience and the financial backing needed to take on the challenge of launching a company in the competitive adventure gear market.\"]\n"
     ]
    }
   ],
   "source": [
    "print(f\"Input : {user_input} \\\n",
    "      \\nOutput: {actual_output} \\\n",
    "      \\nRetrieved Chunks Count: {len(retrieval_context)}  \\\n",
    "      \\nRetrieved Context: {retrieval_context}\")"
   ]
  },
  {
   "cell_type": "markdown",
   "metadata": {},
   "source": [
    "#### Completeness : Answer Relevancy "
   ]
  },
  {
   "cell_type": "code",
   "execution_count": 19,
   "metadata": {},
   "outputs": [
    {
     "data": {
      "text/html": [
       "<pre style=\"white-space:pre;overflow-x:auto;line-height:normal;font-family:Menlo,'DejaVu Sans Mono',consolas,'Courier New',monospace\">Event loop is already running. Applying nest_asyncio patch to allow async execution...\n",
       "</pre>\n"
      ],
      "text/plain": [
       "Event loop is already running. Applying nest_asyncio patch to allow async execution...\n"
      ]
     },
     "metadata": {},
     "output_type": "display_data"
    },
    {
     "name": "stdout",
     "output_type": "stream",
     "text": [
      "Input : who is the CEO of company Foo? and what are the other companies he has started earlier. \n",
      "Output: The CEO of the company Foo is Bar. Before founding Foo, Bar started two other companies: Cam, a tech start-up aimed at revolutionizing data management for businesses, and Tres, a company specializing in providing cloud-based solutions for small businesses.\n"
     ]
    },
    {
     "data": {
      "text/html": [
       "<pre style=\"white-space:pre;overflow-x:auto;line-height:normal;font-family:Menlo,'DejaVu Sans Mono',consolas,'Courier New',monospace\"></pre>\n"
      ],
      "text/plain": []
     },
     "metadata": {},
     "output_type": "display_data"
    },
    {
     "data": {
      "text/html": [
       "<pre style=\"white-space:pre;overflow-x:auto;line-height:normal;font-family:Menlo,'DejaVu Sans Mono',consolas,'Courier New',monospace\">\n",
       "</pre>\n"
      ],
      "text/plain": [
       "\n"
      ]
     },
     "metadata": {},
     "output_type": "display_data"
    },
    {
     "name": "stdout",
     "output_type": "stream",
     "text": [
      "1.0\n",
      "The score is 1.00 because the answer fully addresses the questions asked about the CEO of company Foo and the other companies he has started earlier, with no irrelevant statements.\n"
     ]
    }
   ],
   "source": [
    "from deepeval.test_case import LLMTestCase\n",
    "from deepeval.metrics import AnswerRelevancyMetric\n",
    "\n",
    "metric = AnswerRelevancyMetric(\n",
    "    threshold=0.7,\n",
    "    model=\"gpt-4o\",\n",
    "    include_reason=True\n",
    ")\n",
    "\n",
    "test_case = LLMTestCase(\n",
    "    input=user_input,\n",
    "    actual_output=actual_output\n",
    ")\n",
    "\n",
    "print(f\"Input : {user_input} \\nOutput: {actual_output}\")\n",
    "metric.measure(test_case)\n",
    "print(metric.score)\n",
    "print(metric.reason)"
   ]
  },
  {
   "cell_type": "markdown",
   "metadata": {},
   "source": [
    "#### Faithfulness"
   ]
  },
  {
   "cell_type": "code",
   "execution_count": 20,
   "metadata": {},
   "outputs": [
    {
     "data": {
      "text/html": [
       "<pre style=\"white-space:pre;overflow-x:auto;line-height:normal;font-family:Menlo,'DejaVu Sans Mono',consolas,'Courier New',monospace\">Event loop is already running. Applying nest_asyncio patch to allow async execution...\n",
       "</pre>\n"
      ],
      "text/plain": [
       "Event loop is already running. Applying nest_asyncio patch to allow async execution...\n"
      ]
     },
     "metadata": {},
     "output_type": "display_data"
    },
    {
     "name": "stdout",
     "output_type": "stream",
     "text": [
      "Retrieved Context: ['**The Founders: Bar and Qux**\\n\\nTo understand the success of Foo, it’s essential to delve deeper into the backgrounds of its founders, Bar and Qux. Bar, the visionary behind Foo, is not your typical entrepreneur. His journey to becoming the CEO of one of the most respected adventure gear companies in the world is a tale of passion, perseverance, and a deep connection with nature.\\n\\nBar’s entrepreneurial journey began in the late 1990s, a time when the internet was still in its infancy. His first venture, Cam, was a tech start-up that aimed to revolutionize the way businesses managed their data. While Cam was not a massive success, it was a critical learning experience for Bar. He learned the importance of understanding the market, the value of customer feedback, and the need for constant innovation. These lessons would prove invaluable when he later founded Foo.\\n\\nIn 2000, Bar founded Tres, a company that specialized in providing cloud-based solutions for small businesses. Tres was a moderate success, and it allowed Bar to build a reputation as a capable and forward-thinking entrepreneur. However, despite the success of Tres, Bar felt unfulfilled. His true passion lay not in technology, but in the great outdoors. This realization led him to sell his stake in Tres and start Foo, a company that would allow him to combine his business skills with his love for adventure.\\n\\nQux, the co-founder of Foo, brought a different set of skills to the table. An AI pioneer, Qux had spent years working in the tech industry, developing cutting-edge algorithms and machine learning models. His expertise in AI was instrumental in the early development of Foo, particularly in optimizing the company’s supply chain and improving the customer experience. Qux’s contributions were crucial in ensuring that Foo could compete with larger, more established companies in the adventure gear market.\\n\\nTogether, Bar and Qux formed a formidable team. Bar’s vision and passion for the outdoors, combined with Qux’s technical expertise, created a synergy that allowed Foo to rapidly establish itself as a leading player in the adventure gear market.', \"**Introduction: The Genesis of Foo**\\n\\nIn 2010, the retail landscape for adventure gear was drastically different from what it is today. The market, though not untapped, lacked a player that could truly resonate with the core values of adventure enthusiasts—passion, resilience, and a commitment to quality. This was the gap that Foo sought to fill when it was founded by the dynamic and visionary entrepreneur, Bar, alongside AI pioneer Qux. Their shared vision was clear: to create a brand that would not only supply high-quality adventure gear but also inspire and empower adventurers around the world. Foo wasn't just a business idea; it was the embodiment of a passion that had been kindling in Bar’s heart for years.\\n\\nThe story of Foo begins in the quaint and vibrant town of Baz, a place that, while small, has always been rich in culture and spirit. Baz is not just a backdrop for the company’s origins; it’s an integral part of its identity. The rugged landscapes and the adventurous spirit of its people provided the perfect breeding ground for a company like Foo. Bar, a native of Baz, was deeply influenced by his surroundings. The town's hills, forests, and rivers were his playground growing up, fostering in him a love for the outdoors that would eventually become the cornerstone of Foo's brand philosophy.\\n\\nBefore Foo, Bar had already made a name for himself in the world of entrepreneurship. His earlier ventures, such as Tres, founded in 2000, and Cam, launched in 1998, were successful in their own right, but Foo was different. Foo was a passion project, a dream that combined Bar's love for nature and his business acumen. These earlier ventures had provided Bar with the experience and the financial backing needed to take on the challenge of launching a company in the competitive adventure gear market.\"] \n",
      "Output: The CEO of the company Foo is Bar. Before founding Foo, Bar started two other companies: Cam, a tech start-up aimed at revolutionizing data management for businesses, and Tres, a company specializing in providing cloud-based solutions for small businesses.\n"
     ]
    },
    {
     "data": {
      "text/html": [
       "<pre style=\"white-space:pre;overflow-x:auto;line-height:normal;font-family:Menlo,'DejaVu Sans Mono',consolas,'Courier New',monospace\"></pre>\n"
      ],
      "text/plain": []
     },
     "metadata": {},
     "output_type": "display_data"
    },
    {
     "data": {
      "text/html": [
       "<pre style=\"white-space:pre;overflow-x:auto;line-height:normal;font-family:Menlo,'DejaVu Sans Mono',consolas,'Courier New',monospace\">\n",
       "</pre>\n"
      ],
      "text/plain": [
       "\n"
      ]
     },
     "metadata": {},
     "output_type": "display_data"
    },
    {
     "name": "stdout",
     "output_type": "stream",
     "text": [
      "1.0\n",
      "The score is 1.00 because there are no contradictions between the actual output and the retrieval context. Great job maintaining faithfulness!\n"
     ]
    }
   ],
   "source": [
    "from deepeval.metrics import FaithfulnessMetric\n",
    "\n",
    "metric = FaithfulnessMetric(\n",
    "    threshold=0.7,\n",
    "    model=\"gpt-4o\",\n",
    "    include_reason=True\n",
    ")\n",
    "\n",
    "test_case = LLMTestCase(\n",
    "    input=user_input,\n",
    "    actual_output=actual_output,\n",
    "    retrieval_context=retrieval_context\n",
    ")\n",
    "\n",
    "print(f\"Retrieved Context: {retrieval_context} \\nOutput: {actual_output}\")\n",
    "\n",
    "metric.measure(test_case)\n",
    "print(metric.score)\n",
    "print(metric.reason)"
   ]
  },
  {
   "cell_type": "markdown",
   "metadata": {},
   "source": [
    "#### Toxicity"
   ]
  },
  {
   "cell_type": "code",
   "execution_count": 21,
   "metadata": {},
   "outputs": [
    {
     "data": {
      "text/html": [
       "<pre style=\"white-space:pre;overflow-x:auto;line-height:normal;font-family:Menlo,'DejaVu Sans Mono',consolas,'Courier New',monospace\">Event loop is already running. Applying nest_asyncio patch to allow async execution...\n",
       "</pre>\n"
      ],
      "text/plain": [
       "Event loop is already running. Applying nest_asyncio patch to allow async execution...\n"
      ]
     },
     "metadata": {},
     "output_type": "display_data"
    },
    {
     "name": "stdout",
     "output_type": "stream",
     "text": [
      "Input : who is the CEO of company Foo? and what are the other companies he has started earlier. \n",
      "Output: The CEO of the company Foo is Bar. Before founding Foo, Bar started two other companies: Cam, a tech start-up aimed at revolutionizing data management for businesses, and Tres, a company specializing in providing cloud-based solutions for small businesses.\n"
     ]
    },
    {
     "data": {
      "text/html": [
       "<pre style=\"white-space:pre;overflow-x:auto;line-height:normal;font-family:Menlo,'DejaVu Sans Mono',consolas,'Courier New',monospace\"></pre>\n"
      ],
      "text/plain": []
     },
     "metadata": {},
     "output_type": "display_data"
    },
    {
     "data": {
      "text/html": [
       "<pre style=\"white-space:pre;overflow-x:auto;line-height:normal;font-family:Menlo,'DejaVu Sans Mono',consolas,'Courier New',monospace\">\n",
       "</pre>\n"
      ],
      "text/plain": [
       "\n"
      ]
     },
     "metadata": {},
     "output_type": "display_data"
    },
    {
     "name": "stdout",
     "output_type": "stream",
     "text": [
      "0\n",
      "The score is 0.00 because the output is completely non-toxic and free of any harmful language.\n"
     ]
    }
   ],
   "source": [
    "from deepeval.metrics import ToxicityMetric\n",
    "\n",
    "metric = ToxicityMetric(\n",
    "    threshold=0.5,\n",
    "    model=\"gpt-4o\",\n",
    "    include_reason=True)\n",
    "\n",
    "test_case = LLMTestCase(\n",
    "    input=user_input,\n",
    "    actual_output=actual_output,\n",
    ")\n",
    "\n",
    "print(f\"Input : {user_input} \\nOutput: {actual_output}\")\n",
    "metric.measure(test_case)\n",
    "print(metric.score)\n",
    "print(metric.reason)"
   ]
  },
  {
   "cell_type": "markdown",
   "metadata": {},
   "source": [
    "#### Bias"
   ]
  },
  {
   "cell_type": "code",
   "execution_count": 22,
   "metadata": {},
   "outputs": [
    {
     "data": {
      "text/html": [
       "<pre style=\"white-space:pre;overflow-x:auto;line-height:normal;font-family:Menlo,'DejaVu Sans Mono',consolas,'Courier New',monospace\">Event loop is already running. Applying nest_asyncio patch to allow async execution...\n",
       "</pre>\n"
      ],
      "text/plain": [
       "Event loop is already running. Applying nest_asyncio patch to allow async execution...\n"
      ]
     },
     "metadata": {},
     "output_type": "display_data"
    },
    {
     "name": "stdout",
     "output_type": "stream",
     "text": [
      "Input : who is the CEO of company Foo? and what are the other companies he has started earlier. \n",
      "Output: The CEO of the company Foo is Bar. Before founding Foo, Bar started two other companies: Cam, a tech start-up aimed at revolutionizing data management for businesses, and Tres, a company specializing in providing cloud-based solutions for small businesses. \n",
      " Retrieved Context: ['**The Founders: Bar and Qux**\\n\\nTo understand the success of Foo, it’s essential to delve deeper into the backgrounds of its founders, Bar and Qux. Bar, the visionary behind Foo, is not your typical entrepreneur. His journey to becoming the CEO of one of the most respected adventure gear companies in the world is a tale of passion, perseverance, and a deep connection with nature.\\n\\nBar’s entrepreneurial journey began in the late 1990s, a time when the internet was still in its infancy. His first venture, Cam, was a tech start-up that aimed to revolutionize the way businesses managed their data. While Cam was not a massive success, it was a critical learning experience for Bar. He learned the importance of understanding the market, the value of customer feedback, and the need for constant innovation. These lessons would prove invaluable when he later founded Foo.\\n\\nIn 2000, Bar founded Tres, a company that specialized in providing cloud-based solutions for small businesses. Tres was a moderate success, and it allowed Bar to build a reputation as a capable and forward-thinking entrepreneur. However, despite the success of Tres, Bar felt unfulfilled. His true passion lay not in technology, but in the great outdoors. This realization led him to sell his stake in Tres and start Foo, a company that would allow him to combine his business skills with his love for adventure.\\n\\nQux, the co-founder of Foo, brought a different set of skills to the table. An AI pioneer, Qux had spent years working in the tech industry, developing cutting-edge algorithms and machine learning models. His expertise in AI was instrumental in the early development of Foo, particularly in optimizing the company’s supply chain and improving the customer experience. Qux’s contributions were crucial in ensuring that Foo could compete with larger, more established companies in the adventure gear market.\\n\\nTogether, Bar and Qux formed a formidable team. Bar’s vision and passion for the outdoors, combined with Qux’s technical expertise, created a synergy that allowed Foo to rapidly establish itself as a leading player in the adventure gear market.', \"**Introduction: The Genesis of Foo**\\n\\nIn 2010, the retail landscape for adventure gear was drastically different from what it is today. The market, though not untapped, lacked a player that could truly resonate with the core values of adventure enthusiasts—passion, resilience, and a commitment to quality. This was the gap that Foo sought to fill when it was founded by the dynamic and visionary entrepreneur, Bar, alongside AI pioneer Qux. Their shared vision was clear: to create a brand that would not only supply high-quality adventure gear but also inspire and empower adventurers around the world. Foo wasn't just a business idea; it was the embodiment of a passion that had been kindling in Bar’s heart for years.\\n\\nThe story of Foo begins in the quaint and vibrant town of Baz, a place that, while small, has always been rich in culture and spirit. Baz is not just a backdrop for the company’s origins; it’s an integral part of its identity. The rugged landscapes and the adventurous spirit of its people provided the perfect breeding ground for a company like Foo. Bar, a native of Baz, was deeply influenced by his surroundings. The town's hills, forests, and rivers were his playground growing up, fostering in him a love for the outdoors that would eventually become the cornerstone of Foo's brand philosophy.\\n\\nBefore Foo, Bar had already made a name for himself in the world of entrepreneurship. His earlier ventures, such as Tres, founded in 2000, and Cam, launched in 1998, were successful in their own right, but Foo was different. Foo was a passion project, a dream that combined Bar's love for nature and his business acumen. These earlier ventures had provided Bar with the experience and the financial backing needed to take on the challenge of launching a company in the competitive adventure gear market.\"]\n"
     ]
    },
    {
     "data": {
      "text/html": [
       "<pre style=\"white-space:pre;overflow-x:auto;line-height:normal;font-family:Menlo,'DejaVu Sans Mono',consolas,'Courier New',monospace\"></pre>\n"
      ],
      "text/plain": []
     },
     "metadata": {},
     "output_type": "display_data"
    },
    {
     "data": {
      "text/html": [
       "<pre style=\"white-space:pre;overflow-x:auto;line-height:normal;font-family:Menlo,'DejaVu Sans Mono',consolas,'Courier New',monospace\">\n",
       "</pre>\n"
      ],
      "text/plain": [
       "\n"
      ]
     },
     "metadata": {},
     "output_type": "display_data"
    },
    {
     "name": "stdout",
     "output_type": "stream",
     "text": [
      "0\n",
      "The score is 0.00 because the actual output shows no signs of bias, demonstrating a well-balanced and neutral perspective.\n"
     ]
    }
   ],
   "source": [
    "from deepeval.metrics import BiasMetric\n",
    "\n",
    "metric = BiasMetric(\n",
    "    threshold=0.8,\n",
    "    model=\"gpt-4o\",\n",
    "    include_reason=True)\n",
    "\n",
    "test_case = LLMTestCase(\n",
    "    input=user_input,\n",
    "    actual_output=actual_output,\n",
    "    retrieval_context=retrieval_context\n",
    ")\n",
    "\n",
    "print(f\"Input : {user_input} \\nOutput: {actual_output} \\n Retrieved Context: {retrieval_context}\")\n",
    "\n",
    "metric.measure(test_case)\n",
    "print(metric.score)\n",
    "print(metric.reason)"
   ]
  },
  {
   "cell_type": "code",
   "execution_count": null,
   "metadata": {},
   "outputs": [],
   "source": []
  }
 ],
 "metadata": {
  "kernelspec": {
   "display_name": "base",
   "language": "python",
   "name": "python3"
  },
  "language_info": {
   "codemirror_mode": {
    "name": "ipython",
    "version": 3
   },
   "file_extension": ".py",
   "mimetype": "text/x-python",
   "name": "python",
   "nbconvert_exporter": "python",
   "pygments_lexer": "ipython3",
   "version": "3.10.9"
  }
 },
 "nbformat": 4,
 "nbformat_minor": 2
}
